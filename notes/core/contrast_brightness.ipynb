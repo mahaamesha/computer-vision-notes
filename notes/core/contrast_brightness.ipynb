{
 "cells": [
  {
   "cell_type": "markdown",
   "metadata": {},
   "source": [
    "## Mengubah *Contrast* dan *Brightness*"
   ]
  },
  {
   "cell_type": "markdown",
   "metadata": {},
   "source": [
    "Seperti kita tahu, gambar dapat dipandang sebagai matriks. Ketika melakukan pemrosesan gambar, yang sebenarnya dilakukan adalah melakukan transformasi gambar.\n",
    "Transformasi gambar dapat dilakukan dengan:\n",
    "- Operator titik (transfomasi pixel)\n",
    "- Operator *neighborhood* (berbasis area)\n",
    "\n",
    "Manipulasi titik biasa menggunakan dua operasi matematika: perkalian dan penjumlahan. Secara sederhana, kita bisa rumuskan persamaan linear:\n",
    "\n",
    "$$ g(x) = \\alpha y(x) + \\beta $$\n",
    "\n",
    "Keterangan:\\\n",
    "$ \\alpha $ &nbsp;&nbsp;&nbsp;&nbsp; : gain (*contrast*)"
   ]
  }
 ],
 "metadata": {
  "kernelspec": {
   "display_name": "Python 3.9.10 64-bit",
   "language": "python",
   "name": "python3"
  },
  "language_info": {
   "codemirror_mode": {
    "name": "ipython",
    "version": 3
   },
   "file_extension": ".py",
   "mimetype": "text/x-python",
   "name": "python",
   "nbconvert_exporter": "python",
   "pygments_lexer": "ipython3",
   "version": "3.9.10"
  },
  "orig_nbformat": 4,
  "vscode": {
   "interpreter": {
    "hash": "e31aef8222fb7c235d2ed8e74ce17e973738f89b37261e7466b7a63a6dfb1214"
   }
  }
 },
 "nbformat": 4,
 "nbformat_minor": 2
}
